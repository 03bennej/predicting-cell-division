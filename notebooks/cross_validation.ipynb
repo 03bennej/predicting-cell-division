{
 "cells": [
  {
   "cell_type": "code",
   "execution_count": 103,
   "id": "e232ffce",
   "metadata": {},
   "outputs": [],
   "source": [
    "import os\n",
    "import pandas as pd\n",
    "import matplotlib.pyplot as plt\n",
    "import seaborn \n",
    "from src.load_data import load_data\n",
    "from src.utils import load_ei_results, best_method, f_baseline\n",
    "from eipy.metrics import scores\n",
    "from matplotlib.patches import ConnectionStyle\n",
    "from collections import defaultdict\n",
    "plt.rcParams[\"font.family\"] = ['Arial']\n",
    "plt.rcParams['font.size'] = '8'\n",
    "plt.rc('legend',fontsize=7)\n",
    "plt.rc('legend',fontsize=7)\n",
    "plt.rc('xtick', labelsize=7)\n",
    "plt.rc('ytick', labelsize=7)\n",
    "palette = seaborn.color_palette(\"colorblind\", desat=1).as_hex()\n",
    "red_hex = \"#D22B2B\"\n",
    "linewidth=1.5"
   ]
  },
  {
   "attachments": {},
   "cell_type": "markdown",
   "id": "666f46d3",
   "metadata": {},
   "source": [
    "# Visualisation of cross validation results"
   ]
  },
  {
   "attachments": {},
   "cell_type": "markdown",
   "id": "ab852995",
   "metadata": {},
   "source": [
    "### Define results path:"
   ]
  },
  {
   "cell_type": "code",
   "execution_count": 51,
   "id": "f4094bc8",
   "metadata": {},
   "outputs": [],
   "source": [
    "dirname = os.path.dirname(os.path.dirname(os.getcwd())) \n",
    "results_path = os.path.join(dirname, \"results/cross_validation\")\n",
    "save_path = os.path.join(dirname, \"figures/cross_validation\")"
   ]
  },
  {
   "attachments": {},
   "cell_type": "markdown",
   "id": "ec433b61",
   "metadata": {},
   "source": [
    "### Load EI results:"
   ]
  },
  {
   "cell_type": "code",
   "execution_count": 52,
   "id": "3458d1a8",
   "metadata": {},
   "outputs": [],
   "source": [
    "modality_dict = {\n",
    "                 \"ERK+Akt\": \"EI.ERK_Akt\",\n",
    "                 \"ERK\": \"EI.ERK\",\n",
    "                 \"Akt\": \"EI.Akt\"\n",
    "                }\n",
    "\n",
    "results_dict = {\n",
    "             \"XGBoost\": \"xgboost\",\n",
    "             \"No transformation\": \"traditional_ml\",\n",
    "             \"DWT\": \"transformations/dwt\",\n",
    "             \"tsfresh\": \"transformations/tsfresh\",\n",
    "             \"MiniRocket\": \"transformations/minirocket\",\n",
    "             \"Fourier\": \"transformations/fourier\"\n",
    "            }\n",
    "\n",
    "meta_master = []\n",
    "base_master = []\n",
    "\n",
    "for transform_key, transform_path in results_dict.items():\n",
    "    for modality_key, modality_path in modality_dict.items():\n",
    "        path = os.path.join(results_path, transform_path, modality_path)\n",
    "        base_df, meta_df = load_ei_results(path)\n",
    "        base_df[\"Transformation\"] = transform_key\n",
    "        base_master.append(base_df)\n",
    "        if meta_df is not None:\n",
    "            meta_df[\"Modalities included\"] = modality_key\n",
    "            meta_df[\"Transformation\"] = transform_key\n",
    "            meta_master.append(meta_df)\n",
    "\n",
    "base_master = pd.concat(base_master).reset_index(level=['modality', 'base predictor'])\n",
    "meta_master = pd.concat(meta_master).reset_index().rename(columns={\"index\": \"ensemble method\"})"
   ]
  },
  {
   "attachments": {},
   "cell_type": "markdown",
   "id": "7d5f65cf",
   "metadata": {},
   "source": [
    "### Load deep learning results"
   ]
  },
  {
   "cell_type": "code",
   "execution_count": 53,
   "id": "dee6abc9",
   "metadata": {},
   "outputs": [],
   "source": [
    "modality_dict = {\n",
    "                 \"ERK+Akt\": \"ERK_Akt.csv\",\n",
    "                 \"ERK\": \"ERK.csv\",\n",
    "                 \"Akt\": \"Akt.csv\"\n",
    "                }\n",
    "\n",
    "results_dict = {\n",
    "             \"LSTM\": \"dl/lstm\",\n",
    "             \"CNN\": \"dl/cnn\"\n",
    "                }\n",
    "\n",
    "dl_f = defaultdict(dict)\n",
    "dl_auc = defaultdict(dict)\n",
    "\n",
    "for method_key, method_path in results_dict.items():\n",
    "    for modality_key, modality_path in modality_dict.items():\n",
    "        path = os.path.join(results_path, method_path, modality_path)\n",
    "        predictions_df = pd.read_csv(path)\n",
    "        y_pred = predictions_df[\"predictions\"].to_numpy()\n",
    "        y_test = predictions_df[\"labels\"].to_numpy()\n",
    "        score_dict = scores(y_test, y_pred, metrics=None)\n",
    "        dl_f[method_key][modality_key] = score_dict[\"fmax (minority)\"]\n",
    "        dl_auc[method_key][modality_key] = score_dict[\"auc\"]"
   ]
  },
  {
   "attachments": {},
   "cell_type": "markdown",
   "id": "925dbd81",
   "metadata": {},
   "source": [
    "### Examine deep learning results:"
   ]
  },
  {
   "cell_type": "code",
   "execution_count": 54,
   "id": "ca7131e5",
   "metadata": {},
   "outputs": [
    {
     "name": "stdout",
     "output_type": "stream",
     "text": [
      "Fmax/AUC scores for LSTM method:\n",
      " ERK+Akt:  0.5214285714285715 / 0.7400578569277756 \n",
      " ERK:  0.5171898355754858 / 0.7264001806684733 \n",
      " Akt:  0.46994535519125685 / 0.6765980556630962\n",
      "Fmax/AUC scores for CNN method:\n",
      " ERK+Akt:  0.46171693735498837 / 0.6603620897320086 \n",
      " ERK:  0.47861271676300576 / 0.6825558136533746 \n",
      " Akt:  0.4241733181299886 / 0.6130844840194434\n"
     ]
    }
   ],
   "source": [
    "print(\"Fmax/AUC scores for LSTM method:\\n\", \n",
    "      \"ERK+Akt: \", dl_f[\"LSTM\"][\"ERK+Akt\"][0], \"/\", dl_auc[\"LSTM\"][\"ERK+Akt\"][0], \"\\n\",\n",
    "      \"ERK: \", dl_f[\"LSTM\"][\"ERK\"][0], \"/\", dl_auc[\"LSTM\"][\"ERK\"][0], \"\\n\",\n",
    "      \"Akt: \", dl_f[\"LSTM\"][\"Akt\"][0], \"/\", dl_auc[\"LSTM\"][\"Akt\"][0],\n",
    "      )\n",
    "\n",
    "print(\"Fmax/AUC scores for CNN method:\\n\", \n",
    "      \"ERK+Akt: \", dl_f[\"CNN\"][\"ERK+Akt\"][0], \"/\", dl_auc[\"CNN\"][\"ERK+Akt\"][0], \"\\n\",\n",
    "      \"ERK: \", dl_f[\"CNN\"][\"ERK\"][0], \"/\", dl_auc[\"CNN\"][\"ERK\"][0], \"\\n\",\n",
    "      \"Akt: \", dl_f[\"CNN\"][\"Akt\"][0], \"/\", dl_auc[\"CNN\"][\"Akt\"][0],\n",
    "      )"
   ]
  },
  {
   "attachments": {},
   "cell_type": "markdown",
   "id": "cd9a9a29",
   "metadata": {},
   "source": [
    "### Extract XGBoost performance scores"
   ]
  },
  {
   "cell_type": "code",
   "execution_count": 55,
   "id": "8473c7ae",
   "metadata": {},
   "outputs": [
    {
     "data": {
      "text/plain": [
       "0.49472096530920057"
      ]
     },
     "execution_count": 55,
     "metadata": {},
     "output_type": "execute_result"
    }
   ],
   "source": [
    "xgboost_scores = base_master[base_master[\"Transformation\"] == \"XGBoost\"].drop_duplicates()\n",
    "xgboost_scores = xgboost_scores.replace({\"concat\": \"ERK+Akt\"})\n",
    "\n",
    "xgboost_scores[xgboost_scores['modality']=='ERK+Akt']['fmax (minority)'].to_numpy()[0]"
   ]
  },
  {
   "attachments": {},
   "cell_type": "markdown",
   "id": "bef3afbb",
   "metadata": {},
   "source": [
    "### Best ERK base predictor:"
   ]
  },
  {
   "cell_type": "code",
   "execution_count": 56,
   "id": "e163732d",
   "metadata": {},
   "outputs": [
    {
     "data": {
      "text/plain": [
       "modality                        ERK\n",
       "base predictor     GradientBoosting\n",
       "fmax (minority)            0.528771\n",
       "auc                         0.73995\n",
       "Transformation           MiniRocket\n",
       "Name: 63, dtype: object"
      ]
     },
     "execution_count": 56,
     "metadata": {},
     "output_type": "execute_result"
    }
   ],
   "source": [
    "best_method(base_master[base_master[\"modality\"] == \"ERK\"].reset_index(drop=True))"
   ]
  },
  {
   "attachments": {},
   "cell_type": "markdown",
   "id": "5399d4bd",
   "metadata": {},
   "source": [
    "### Best Akt base predictor:"
   ]
  },
  {
   "cell_type": "code",
   "execution_count": 57,
   "id": "85948ead",
   "metadata": {},
   "outputs": [
    {
     "data": {
      "text/plain": [
       "modality                         Akt\n",
       "base predictor                   SVM\n",
       "fmax (minority)             0.481633\n",
       "auc                         0.679233\n",
       "Transformation     No transformation\n",
       "Name: 9, dtype: object"
      ]
     },
     "execution_count": 57,
     "metadata": {},
     "output_type": "execute_result"
    }
   ],
   "source": [
    "best_method(base_master[base_master[\"modality\"] == \"Akt\"].reset_index(drop=True))"
   ]
  },
  {
   "attachments": {},
   "cell_type": "markdown",
   "id": "1044b505",
   "metadata": {},
   "source": [
    "### Best ERK+Akt ensemble:"
   ]
  },
  {
   "cell_type": "code",
   "execution_count": 74,
   "id": "8297d342",
   "metadata": {},
   "outputs": [
    {
     "data": {
      "text/plain": [
       "ensemble method              LR\n",
       "fmax (minority)        0.542373\n",
       "auc                    0.757114\n",
       "Modalities included     ERK+Akt\n",
       "Transformation              DWT\n",
       "Name: 18, dtype: object"
      ]
     },
     "execution_count": 74,
     "metadata": {},
     "output_type": "execute_result"
    }
   ],
   "source": [
    "best_erk_akt = best_method(meta_master[meta_master[\"Modalities included\"] == \"ERK+Akt\"].reset_index(drop=True))\n",
    "best_erk_akt"
   ]
  },
  {
   "attachments": {},
   "cell_type": "markdown",
   "id": "4c1ba590",
   "metadata": {},
   "source": [
    "### Best ERK ensemble:"
   ]
  },
  {
   "cell_type": "code",
   "execution_count": 75,
   "id": "c5d25374",
   "metadata": {},
   "outputs": [
    {
     "data": {
      "text/plain": [
       "ensemble method              RF\n",
       "fmax (minority)        0.528239\n",
       "auc                    0.726551\n",
       "Modalities included         ERK\n",
       "Transformation              DWT\n",
       "Name: 21, dtype: object"
      ]
     },
     "execution_count": 75,
     "metadata": {},
     "output_type": "execute_result"
    }
   ],
   "source": [
    "best_erk = best_method(meta_master[meta_master[\"Modalities included\"] == \"ERK\"].reset_index(drop=True))\n",
    "best_erk"
   ]
  },
  {
   "attachments": {},
   "cell_type": "markdown",
   "id": "32aeba41",
   "metadata": {},
   "source": [
    "### Best Akt ensemble:"
   ]
  },
  {
   "cell_type": "code",
   "execution_count": 60,
   "id": "7e715858",
   "metadata": {},
   "outputs": [
    {
     "data": {
      "text/plain": [
       "ensemble method                       DT\n",
       "fmax (minority)                  0.47619\n",
       "auc                             0.643457\n",
       "Modalities included                  Akt\n",
       "Transformation         No transformation\n",
       "Name: 3, dtype: object"
      ]
     },
     "execution_count": 60,
     "metadata": {},
     "output_type": "execute_result"
    }
   ],
   "source": [
    "best_method(meta_master[meta_master[\"Modalities included\"] == \"Akt\"].reset_index(drop=True))"
   ]
  },
  {
   "attachments": {},
   "cell_type": "markdown",
   "id": "0c17160b",
   "metadata": {},
   "source": [
    "### Best DWT Akt ensemble:"
   ]
  },
  {
   "cell_type": "code",
   "execution_count": 72,
   "id": "ba899123",
   "metadata": {},
   "outputs": [
    {
     "data": {
      "text/plain": [
       "ensemble method              NB\n",
       "fmax (minority)        0.461538\n",
       "auc                    0.660714\n",
       "Modalities included         Akt\n",
       "Transformation              DWT\n",
       "Name: 7, dtype: object"
      ]
     },
     "execution_count": 72,
     "metadata": {},
     "output_type": "execute_result"
    }
   ],
   "source": [
    "best_dwt_akt = best_method(meta_master[(meta_master[\"Modalities included\"] == \"Akt\") & (meta_master[\"Transformation\"] == \"DWT\")].reset_index(drop=True))\n",
    "best_dwt_akt"
   ]
  },
  {
   "attachments": {},
   "cell_type": "markdown",
   "id": "93944155",
   "metadata": {},
   "source": [
    "### Median fmax for each transformation: ERK+Akt"
   ]
  },
  {
   "cell_type": "code",
   "execution_count": 64,
   "id": "c4508f07",
   "metadata": {},
   "outputs": [
    {
     "name": "stdout",
     "output_type": "stream",
     "text": [
      "Median fmax values for each DWT, minirocket, tsfresh and Fourier transformations, respectively, \n",
      "0.5181428137135121\n",
      "0.5000233597175195\n",
      "0.49683337191351595\n",
      "0.4811408663240683\n"
     ]
    }
   ],
   "source": [
    "print(\"Median fmax values for each DWT, minirocket, tsfresh and Fourier transformations, respectively, \")\n",
    "print(meta_master[(meta_master[\"Transformation\"] == \"DWT\") \n",
    "            & (meta_master[\"Modalities included\"] == \"ERK+Akt\")][\"fmax (minority)\"].median())\n",
    "print(meta_master[(meta_master[\"Transformation\"] == \"MiniRocket\") \n",
    "            & (meta_master[\"Modalities included\"] == \"ERK+Akt\")][\"fmax (minority)\"].median())\n",
    "print(meta_master[(meta_master[\"Transformation\"] == \"tsfresh\") \n",
    "            & (meta_master[\"Modalities included\"] == \"ERK+Akt\")][\"fmax (minority)\"].median())\n",
    "print(meta_master[(meta_master[\"Transformation\"] == \"Fourier\") \n",
    "            & (meta_master[\"Modalities included\"] == \"ERK+Akt\")][\"fmax (minority)\"].median())"
   ]
  },
  {
   "attachments": {},
   "cell_type": "markdown",
   "id": "44d26721",
   "metadata": {},
   "source": [
    "### Median fmax for each transformation: ERK"
   ]
  },
  {
   "cell_type": "code",
   "execution_count": 15,
   "id": "00aa0f52",
   "metadata": {},
   "outputs": [
    {
     "name": "stdout",
     "output_type": "stream",
     "text": [
      "Median fmax values for each DWT, minirocket, tsfresh and Fourier transformations are, respectively, \n",
      "0.5159777756367023\n",
      "0.4977030352748154\n",
      "0.5025523137332869\n",
      "0.47794130423450504\n"
     ]
    }
   ],
   "source": [
    "print(\"Median fmax values for each DWT, minirocket, tsfresh and Fourier transformations, respectively, \")\n",
    "print(meta_master[(meta_master[\"Transformation\"] == \"DWT\") \n",
    "            & (meta_master[\"Modalities included\"] == \"ERK\")][\"fmax (minority)\"].median())\n",
    "print(meta_master[(meta_master[\"Transformation\"] == \"MiniRocket\") \n",
    "            & (meta_master[\"Modalities included\"] == \"ERK\")][\"fmax (minority)\"].median())\n",
    "print(meta_master[(meta_master[\"Transformation\"] == \"tsfresh\") \n",
    "            & (meta_master[\"Modalities included\"] == \"ERK\")][\"fmax (minority)\"].median())\n",
    "print(meta_master[(meta_master[\"Transformation\"] == \"Fourier\") \n",
    "            & (meta_master[\"Modalities included\"] == \"ERK\")][\"fmax (minority)\"].median())"
   ]
  },
  {
   "attachments": {},
   "cell_type": "markdown",
   "id": "2409b083",
   "metadata": {},
   "source": [
    "### Median fmax for each transformation: Akt"
   ]
  },
  {
   "cell_type": "code",
   "execution_count": 66,
   "id": "42565193",
   "metadata": {},
   "outputs": [
    {
     "name": "stdout",
     "output_type": "stream",
     "text": [
      "Median fmax values for each DWT, minirocket, tsfresh and Fourier transformations are, respectively, \n",
      "0.45494568324757007\n",
      "0.452265916457709\n",
      "0.4524861364974132\n",
      "0.43681640146021206\n"
     ]
    }
   ],
   "source": [
    "print(\"Median fmax values for each DWT, minirocket, tsfresh and Fourier transformations are, respectively, \")\n",
    "print(meta_master[(meta_master[\"Transformation\"] == \"DWT\") \n",
    "            & (meta_master[\"Modalities included\"] == \"Akt\")][\"fmax (minority)\"].median())\n",
    "print(meta_master[(meta_master[\"Transformation\"] == \"MiniRocket\") \n",
    "            & (meta_master[\"Modalities included\"] == \"Akt\")][\"fmax (minority)\"].median())\n",
    "print(meta_master[(meta_master[\"Transformation\"] == \"tsfresh\") \n",
    "            & (meta_master[\"Modalities included\"] == \"Akt\")][\"fmax (minority)\"].median())\n",
    "print(meta_master[(meta_master[\"Transformation\"] == \"Fourier\") \n",
    "            & (meta_master[\"Modalities included\"] == \"Akt\")][\"fmax (minority)\"].median())"
   ]
  },
  {
   "attachments": {},
   "cell_type": "markdown",
   "id": "136c1566",
   "metadata": {},
   "source": [
    "## Plot boxplot for each transformation"
   ]
  },
  {
   "attachments": {},
   "cell_type": "markdown",
   "id": "ab5569b1",
   "metadata": {},
   "source": [
    "### Figure parameters:"
   ]
  },
  {
   "cell_type": "code",
   "execution_count": 67,
   "id": "641969ed",
   "metadata": {},
   "outputs": [],
   "source": [
    "kinase_label = \"Modalities included\"\n",
    "f_label = r\"F$_{\\rm max}$ score (divided class)\"\n",
    "auc_label = r\"AUC score\"\n",
    "boxplot_kwargs = dict(palette = [palette[0], palette[2], palette[3], palette[8], palette[4]],\n",
    "                      fliersize = 1,\n",
    "                      linewidth = linewidth\n",
    "                      )\n",
    "flier_props = dict(marker='o', markersize=1)"
   ]
  },
  {
   "attachments": {},
   "cell_type": "markdown",
   "id": "b44b2ae1",
   "metadata": {},
   "source": [
    "### Fmax of the divided (minority) class"
   ]
  },
  {
   "cell_type": "code",
   "execution_count": 77,
   "id": "c34fc7f9",
   "metadata": {},
   "outputs": [
    {
     "data": {
      "image/png": "[encoded data removed]",
      "text/plain": [
       "<Figure size 350x300 with 1 Axes>"
      ]
     },
     "metadata": {},
     "output_type": "display_data"
    }
   ],
   "source": [
    "fig, ax = plt.subplots(1, 1, figsize=(3.5, 3))\n",
    "\n",
    "boxplots = seaborn.boxplot(ax=ax, data=meta_master, x=\"Modalities included\", y=\"fmax (minority)\", hue=\"Transformation\",\n",
    "                order=[\"ERK+Akt\", \"ERK\", \"Akt\"],\n",
    "                hue_order=[\"DWT\", \"tsfresh\", \"MiniRocket\", \"No transformation\", \"Fourier\"],\n",
    "                **boxplot_kwargs, flierprops=flier_props\n",
    "                )\n",
    "\n",
    "boxplots.annotate(f'Logistic regression', \n",
    "                xy=(-0.35, best_erk_akt['fmax (minority)']), \n",
    "                xytext=(-0.1, best_erk_akt['fmax (minority)'] + 0.015),\n",
    "                fontsize=6,\n",
    "                arrowprops=dict(arrowstyle='-', \n",
    "                                connectionstyle=ConnectionStyle(\"Arc3\"),\n",
    "                                linewidth=.5,\n",
    "                                color=\"black\"))\n",
    "\n",
    "boxplots.annotate(f'Random forest', \n",
    "                xy=(.65, best_erk['fmax (minority)']), \n",
    "                xytext=(.8, best_erk['fmax (minority)'] + 0.009),\n",
    "                fontsize=6,\n",
    "                arrowprops=dict(arrowstyle='-', \n",
    "                                connectionstyle=ConnectionStyle(\"Arc3\"),\n",
    "                                linewidth=.5,\n",
    "                                color=\"black\"))\n",
    "\n",
    "boxplots.annotate(f'Random forest', \n",
    "                xy=(1.675, best_dwt_akt['fmax (minority)']), \n",
    "                xytext=(1.75, best_dwt_akt['fmax (minority)'] + 0.03),\n",
    "                fontsize=6,\n",
    "                arrowprops=dict(arrowstyle='-', \n",
    "                                connectionstyle=ConnectionStyle(\"Arc3\"),\n",
    "                                linewidth=.5,\n",
    "                                color=\"black\"))\n",
    "\n",
    "ax.set_xlabel(kinase_label)\n",
    "ax.set_ylabel(f_label)\n",
    "\n",
    "handles, labels = ax.get_legend_handles_labels()\n",
    "plt.legend([],[], frameon=False)\n",
    "\n",
    "fig.tight_layout()\n",
    "\n",
    "plt.savefig(os.path.join(save_path, \"all_transforms/transformations_f.svg\"), dpi=300)"
   ]
  },
  {
   "attachments": {},
   "cell_type": "markdown",
   "id": "899dac86",
   "metadata": {},
   "source": [
    "### AUC score"
   ]
  },
  {
   "cell_type": "code",
   "execution_count": 79,
   "id": "02009a9f",
   "metadata": {},
   "outputs": [
    {
     "data": {
      "image/png": "[encoded data removed]",
      "text/plain": [
       "<Figure size 350x300 with 1 Axes>"
      ]
     },
     "metadata": {},
     "output_type": "display_data"
    }
   ],
   "source": [
    "fig, ax = plt.subplots(1, 1, figsize=(3.5, 3))\n",
    "\n",
    "boxplots = seaborn.boxplot(ax=ax, data=meta_master, x=\"Modalities included\", y=\"auc\", hue=\"Transformation\",\n",
    "                order=[\"ERK+Akt\", \"ERK\", \"Akt\"],\n",
    "                hue_order=[\"DWT\", \"tsfresh\", \"MiniRocket\", \"No transformation\", \"Fourier\"],\n",
    "                **boxplot_kwargs, flierprops=flier_props\n",
    "                )\n",
    "\n",
    "boxplots.annotate(f'Logistic regression', \n",
    "                xy=(-0.35, best_erk_akt['auc']), \n",
    "                xytext=(-0.1, best_erk_akt['auc'] + 0.025),\n",
    "                fontsize=6,\n",
    "                arrowprops=dict(arrowstyle='-', \n",
    "                                connectionstyle=ConnectionStyle(\"Arc3\"),\n",
    "                                linewidth=.5,\n",
    "                                color=\"gray\"))\n",
    "\n",
    "boxplots.annotate(f'Random forest', \n",
    "                xy=(.65, best_erk['auc']), \n",
    "                xytext=(.75, best_erk['auc'] + 0.035),\n",
    "                fontsize=6,\n",
    "                arrowprops=dict(arrowstyle='-', \n",
    "                                connectionstyle=ConnectionStyle(\"Arc3\"),\n",
    "                                linewidth=.5,\n",
    "                                color=\"gray\"))\n",
    "\n",
    "boxplots.annotate(f'Random forest', \n",
    "                xy=(1.675, best_dwt_akt['auc']), \n",
    "                xytext=(1.75, best_dwt_akt['auc'] + 0.03),\n",
    "                fontsize=6,\n",
    "                arrowprops=dict(arrowstyle='-', \n",
    "                                hatch='x',\n",
    "                                connectionstyle=ConnectionStyle(\"Arc3\"),\n",
    "                                linewidth=.5,\n",
    "                                color=\"gray\"))\n",
    "\n",
    "ax.set_xlabel(kinase_label)\n",
    "ax.set_ylabel(auc_label)\n",
    "\n",
    "handles, labels = ax.get_legend_handles_labels()\n",
    "plt.legend([],[], frameon=False)\n",
    "\n",
    "fig.tight_layout()\n",
    "\n",
    "plt.savefig(os.path.join(save_path, \"all_transforms/transformations_auc.svg\"), dpi=300)"
   ]
  },
  {
   "cell_type": "code",
   "execution_count": 80,
   "id": "8c2c7c01",
   "metadata": {},
   "outputs": [
    {
     "data": {
      "text/plain": [
       "<Figure size 700x200 with 0 Axes>"
      ]
     },
     "metadata": {},
     "output_type": "display_data"
    }
   ],
   "source": [
    "fig = plt.figure(figsize=(7, 2))\n",
    "fig.legend(handles=handles, labels=labels, ncol = len(ax.lines))\n",
    "plt.savefig(os.path.join(save_path, \"all_transforms/legend.svg\"), dpi=300)"
   ]
  },
  {
   "attachments": {},
   "cell_type": "markdown",
   "id": "42986746",
   "metadata": {},
   "source": [
    "### Plot transformations + EI vs LSTM vs XGBoost"
   ]
  },
  {
   "attachments": {},
   "cell_type": "markdown",
   "id": "ef7f1248",
   "metadata": {},
   "source": [
    "### Figure parameters"
   ]
  },
  {
   "cell_type": "code",
   "execution_count": 81,
   "id": "425f62cd",
   "metadata": {},
   "outputs": [],
   "source": [
    "x_label = \"Modalities included\"\n",
    "f_label = r\"F$_{\\rm max}$ score (divided class)\"\n",
    "auc_label = r\"AUC score\""
   ]
  },
  {
   "attachments": {},
   "cell_type": "markdown",
   "id": "75342c8e",
   "metadata": {},
   "source": [
    "### Create dataframe with best DWT+EI methods"
   ]
  },
  {
   "cell_type": "code",
   "execution_count": 93,
   "id": "bd7e1a72",
   "metadata": {},
   "outputs": [],
   "source": [
    "best_ERK_Akt = pd.DataFrame(best_method(meta_master[(meta_master[\"Modalities included\"] == \"ERK+Akt\") & (meta_master[\"Transformation\"] == \"DWT\")].reset_index(drop=True))).T\n",
    "best_ERK = pd.DataFrame(best_method(meta_master[(meta_master[\"Modalities included\"] == \"ERK\") & (meta_master[\"Transformation\"] == \"DWT\")].reset_index(drop=True))).T\n",
    "best_Akt = pd.DataFrame(best_method(meta_master[(meta_master[\"Modalities included\"] == \"Akt\") & (meta_master[\"Transformation\"] == \"DWT\")].reset_index(drop=True))).T\n",
    "best_df = pd.concat([best_ERK_Akt, best_ERK, best_Akt])\n",
    "best_df = best_df.rename(columns={\"ensemble method\": \"Method\"})\n",
    "best_df[\"hue_id\"] = \"EI\""
   ]
  },
  {
   "cell_type": "markdown",
   "id": "a4c6770c",
   "metadata": {},
   "source": [
    "#### Add LSTM benchmark"
   ]
  },
  {
   "cell_type": "code",
   "execution_count": 94,
   "id": "0fe66c16",
   "metadata": {},
   "outputs": [],
   "source": [
    "best_df = pd.concat([best_df, pd.DataFrame(dict(zip(best_df.columns, [\"LSTM\", dl_f[\"LSTM\"][\"ERK+Akt\"][0], dl_auc[\"LSTM\"][\"ERK+Akt\"][0], \"ERK+Akt\", \"No transformation\", \"LSTM\"])), index=[0])])\n",
    "best_df = pd.concat([best_df, pd.DataFrame(dict(zip(best_df.columns, [\"LSTM\", dl_f[\"LSTM\"][\"ERK\"][0], dl_auc[\"LSTM\"][\"ERK\"][0], \"ERK\", \"No transformation\", \"LSTM\"])), index=[0])])\n",
    "best_df = pd.concat([best_df, pd.DataFrame(dict(zip(best_df.columns, [\"LSTM\", dl_f[\"LSTM\"][\"Akt\"][0], dl_auc[\"LSTM\"][\"Akt\"][0], \"Akt\", \"No transformation\", \"LSTM\"])), index=[0])])"
   ]
  },
  {
   "cell_type": "markdown",
   "id": "e04bd990",
   "metadata": {},
   "source": [
    "#### Add XGBoost benchmark"
   ]
  },
  {
   "cell_type": "code",
   "execution_count": 95,
   "id": "ef72475f",
   "metadata": {},
   "outputs": [],
   "source": [
    "best_df = pd.concat([best_df, pd.DataFrame(dict(zip(best_df.columns, [\"XGB\", xgboost_scores[xgboost_scores['modality']=='ERK+Akt']['fmax (minority)'].to_numpy()[0], xgboost_scores[xgboost_scores['modality']=='ERK+Akt']['auc'].to_numpy()[0], \"ERK+Akt\", \"No transformation\", \"XGBoost\"])), index=[0])])\n",
    "best_df = pd.concat([best_df, pd.DataFrame(dict(zip(best_df.columns, [\"XGB\", xgboost_scores[xgboost_scores['modality']=='ERK']['fmax (minority)'].to_numpy()[0], xgboost_scores[xgboost_scores['modality']=='ERK']['auc'].to_numpy()[0], \"ERK\", \"No transformation\", \"XGBoost\"])), index=[0])])\n",
    "best_df = pd.concat([best_df, pd.DataFrame(dict(zip(best_df.columns, [\"XGB\", xgboost_scores[xgboost_scores['modality']=='Akt']['fmax (minority)'].to_numpy()[0], xgboost_scores[xgboost_scores['modality']=='Akt']['auc'].to_numpy()[0], \"Akt\", \"No transformation\", \"XGBoost\"])), index=[0])])"
   ]
  },
  {
   "cell_type": "code",
   "execution_count": 96,
   "id": "f3e030b9",
   "metadata": {},
   "outputs": [
    {
     "data": {
      "text/html": [
       "<div>\n",
       "<style scoped>\n",
       "    .dataframe tbody tr th:only-of-type {\n",
       "        vertical-align: middle;\n",
       "    }\n",
       "\n",
       "    .dataframe tbody tr th {\n",
       "        vertical-align: top;\n",
       "    }\n",
       "\n",
       "    .dataframe thead th {\n",
       "        text-align: right;\n",
       "    }\n",
       "</style>\n",
       "<table border=\"1\" class=\"dataframe\">\n",
       "  <thead>\n",
       "    <tr style=\"text-align: right;\">\n",
       "      <th></th>\n",
       "      <th>Method</th>\n",
       "      <th>fmax (minority)</th>\n",
       "      <th>auc</th>\n",
       "      <th>Modalities included</th>\n",
       "      <th>Transformation</th>\n",
       "      <th>hue_id</th>\n",
       "    </tr>\n",
       "  </thead>\n",
       "  <tbody>\n",
       "    <tr>\n",
       "      <th>0</th>\n",
       "      <td>LR</td>\n",
       "      <td>0.542373</td>\n",
       "      <td>0.757114</td>\n",
       "      <td>ERK+Akt</td>\n",
       "      <td>DWT</td>\n",
       "      <td>EI</td>\n",
       "    </tr>\n",
       "    <tr>\n",
       "      <th>1</th>\n",
       "      <td>RF</td>\n",
       "      <td>0.528239</td>\n",
       "      <td>0.726551</td>\n",
       "      <td>ERK</td>\n",
       "      <td>DWT</td>\n",
       "      <td>EI</td>\n",
       "    </tr>\n",
       "    <tr>\n",
       "      <th>2</th>\n",
       "      <td>NB</td>\n",
       "      <td>0.461538</td>\n",
       "      <td>0.660714</td>\n",
       "      <td>Akt</td>\n",
       "      <td>DWT</td>\n",
       "      <td>EI</td>\n",
       "    </tr>\n",
       "    <tr>\n",
       "      <th>3</th>\n",
       "      <td>LSTM</td>\n",
       "      <td>0.521429</td>\n",
       "      <td>0.740058</td>\n",
       "      <td>ERK+Akt</td>\n",
       "      <td>No transformation</td>\n",
       "      <td>LSTM</td>\n",
       "    </tr>\n",
       "    <tr>\n",
       "      <th>4</th>\n",
       "      <td>LSTM</td>\n",
       "      <td>0.51719</td>\n",
       "      <td>0.7264</td>\n",
       "      <td>ERK</td>\n",
       "      <td>No transformation</td>\n",
       "      <td>LSTM</td>\n",
       "    </tr>\n",
       "    <tr>\n",
       "      <th>5</th>\n",
       "      <td>LSTM</td>\n",
       "      <td>0.469945</td>\n",
       "      <td>0.676598</td>\n",
       "      <td>Akt</td>\n",
       "      <td>No transformation</td>\n",
       "      <td>LSTM</td>\n",
       "    </tr>\n",
       "    <tr>\n",
       "      <th>6</th>\n",
       "      <td>XGB</td>\n",
       "      <td>0.494721</td>\n",
       "      <td>0.712178</td>\n",
       "      <td>ERK+Akt</td>\n",
       "      <td>No transformation</td>\n",
       "      <td>XGBoost</td>\n",
       "    </tr>\n",
       "    <tr>\n",
       "      <th>7</th>\n",
       "      <td>XGB</td>\n",
       "      <td>0.486486</td>\n",
       "      <td>0.703903</td>\n",
       "      <td>ERK</td>\n",
       "      <td>No transformation</td>\n",
       "      <td>XGBoost</td>\n",
       "    </tr>\n",
       "    <tr>\n",
       "      <th>8</th>\n",
       "      <td>XGB</td>\n",
       "      <td>0.439752</td>\n",
       "      <td>0.626092</td>\n",
       "      <td>Akt</td>\n",
       "      <td>No transformation</td>\n",
       "      <td>XGBoost</td>\n",
       "    </tr>\n",
       "  </tbody>\n",
       "</table>\n",
       "</div>"
      ],
      "text/plain": [
       "  Method fmax (minority)       auc Modalities included     Transformation  \\\n",
       "0     LR        0.542373  0.757114             ERK+Akt                DWT   \n",
       "1     RF        0.528239  0.726551                 ERK                DWT   \n",
       "2     NB        0.461538  0.660714                 Akt                DWT   \n",
       "3   LSTM        0.521429  0.740058             ERK+Akt  No transformation   \n",
       "4   LSTM         0.51719    0.7264                 ERK  No transformation   \n",
       "5   LSTM        0.469945  0.676598                 Akt  No transformation   \n",
       "6    XGB        0.494721  0.712178             ERK+Akt  No transformation   \n",
       "7    XGB        0.486486  0.703903                 ERK  No transformation   \n",
       "8    XGB        0.439752  0.626092                 Akt  No transformation   \n",
       "\n",
       "    hue_id  \n",
       "0       EI  \n",
       "1       EI  \n",
       "2       EI  \n",
       "3     LSTM  \n",
       "4     LSTM  \n",
       "5     LSTM  \n",
       "6  XGBoost  \n",
       "7  XGBoost  \n",
       "8  XGBoost  "
      ]
     },
     "execution_count": 96,
     "metadata": {},
     "output_type": "execute_result"
    }
   ],
   "source": [
    "best_df = best_df.reset_index(drop=True)\n",
    "best_df"
   ]
  },
  {
   "cell_type": "markdown",
   "id": "97737e4c",
   "metadata": {},
   "source": [
    "#### Load random baseline performance for fmax"
   ]
  },
  {
   "cell_type": "code",
   "execution_count": 104,
   "id": "b37868b0",
   "metadata": {},
   "outputs": [],
   "source": [
    "_, _, y, _ = load_data(os.path.join(dirname, \"data/processed/mcf10a/high_dose/train\"))\n",
    "f_train_baseline = f_baseline(y)"
   ]
  },
  {
   "cell_type": "code",
   "execution_count": 117,
   "id": "8e5afc33",
   "metadata": {},
   "outputs": [
    {
     "data": {
      "image/png": "[encoded data removed]",
      "text/plain": [
       "<Figure size 400x200 with 1 Axes>"
      ]
     },
     "metadata": {},
     "output_type": "display_data"
    }
   ],
   "source": [
    "fig, ax = plt.subplots(1, 1,figsize=(4, 2))\n",
    "\n",
    "plot1 = seaborn.barplot(ax=ax, data=best_df, x=\"Modalities included\", y=\"fmax (minority)\", hue=\"hue_id\",\n",
    "                # hue_order=modalityIDs, width=0.6, saturation=0.8,\n",
    "                palette=\"rocket\"\n",
    "                ) \n",
    "\n",
    "ax.hlines(f_train_baseline, xmin=-2, xmax=3, color=\"black\", linestyle=\"--\", label=\"Random classifier\")\n",
    "\n",
    "ax.set_xlabel(x_label)\n",
    "ax.set_ylabel(f_label)\n",
    "\n",
    "handles, labels = ax.get_legend_handles_labels()\n",
    "\n",
    "order = [1, 2, 3, 0]\n",
    "\n",
    "handles = [handles[index] for index in order]\n",
    "labels = [labels[index] for index in order]\n",
    "\n",
    "ax.legend(handles[:], labels[:], title=\"\")\n",
    "\n",
    "plt.legend([],[], frameon=False)\n",
    "\n",
    "ax.set_xlim(xmin=-0.5, xmax=2.5)\n",
    "ax.set_ylim(ymin=0.38, ymax=0.55)\n",
    "\n",
    "plt.savefig(os.path.join(save_path, \"best_methods/f.svg\"), dpi=300)"
   ]
  },
  {
   "cell_type": "code",
   "execution_count": 116,
   "id": "56da5a16",
   "metadata": {},
   "outputs": [
    {
     "data": {
      "image/png": "[encoded data removed]",
      "text/plain": [
       "<Figure size 400x200 with 1 Axes>"
      ]
     },
     "metadata": {},
     "output_type": "display_data"
    }
   ],
   "source": [
    "fig, ax = plt.subplots(1, 1,figsize=(4, 2))\n",
    "\n",
    "plot1 = seaborn.barplot(ax=ax, data=best_df, x=\"Modalities included\", y=\"auc\", hue=\"hue_id\",\n",
    "                # hue_order=modalityIDs, width=0.6, saturation=0.8,\n",
    "                palette=\"rocket\"\n",
    "                ) \n",
    "\n",
    "ax.hlines(0.5, xmin=-2, xmax=3, color=\"black\", linestyle=\"--\", label=\"Random classifier\")\n",
    "\n",
    "ax.set_xlabel(x_label)\n",
    "ax.set_ylabel(auc_label)\n",
    "\n",
    "handles, labels = ax.get_legend_handles_labels()\n",
    "\n",
    "order = [1, 2, 3, 0]\n",
    "\n",
    "handles = [handles[index] for index in order]\n",
    "labels = [labels[index] for index in order]\n",
    "\n",
    "ax.legend(handles[:], labels[:], title=\"\")\n",
    "\n",
    "plt.legend([],[], frameon=False)\n",
    "\n",
    "ax.set_xlim(xmin=-0.5, xmax=2.5)\n",
    "ax.set_ylim(ymin=0.48, ymax=0.77)\n",
    "\n",
    "plt.savefig(os.path.join(save_path, \"best_methods/auc.svg\"), dpi=300)"
   ]
  },
  {
   "cell_type": "code",
   "execution_count": 119,
   "id": "337db580",
   "metadata": {},
   "outputs": [
    {
     "data": {
      "text/plain": [
       "<Figure size 700x200 with 0 Axes>"
      ]
     },
     "metadata": {},
     "output_type": "display_data"
    }
   ],
   "source": [
    "fig = plt.figure(figsize=(7, 2))\n",
    "fig.legend(handles=handles, labels=labels, ncol = len(ax.lines))\n",
    "plt.savefig(os.path.join(save_path, \"best_methods/legend.svg\"), dpi=300)"
   ]
  }
 ],
 "metadata": {
  "kernelspec": {
   "display_name": "tf",
   "language": "python",
   "name": "python3"
  },
  "language_info": {
   "codemirror_mode": {
    "name": "ipython",
    "version": 3
   },
   "file_extension": ".py",
   "mimetype": "text/x-python",
   "name": "python",
   "nbconvert_exporter": "python",
   "pygments_lexer": "ipython3",
   "version": "3.11.5"
  },
  "vscode": {
   "interpreter": {
    "hash": "11e74c3c36c376ffcb66f65df8248706fe68363becca747991fd07d52526dccb"
   }
  }
 },
 "nbformat": 4,
 "nbformat_minor": 5
}
