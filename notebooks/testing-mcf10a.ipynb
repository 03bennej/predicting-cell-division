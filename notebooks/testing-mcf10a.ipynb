{
 "cells": [
  {
   "cell_type": "code",
   "execution_count": 1,
   "metadata": {},
   "outputs": [],
   "source": [
    "import os\n",
    "import pandas as pd\n",
    "import numpy as np\n",
    "import matplotlib.pyplot as plt\n",
    "import seaborn\n",
    "from sklearn.metrics import f1_score, roc_auc_score\n",
    "from src.utils import load_ei_results, f_baseline\n",
    "from src.load_data import load_data, load_data_by_filename\n",
    "plt.rcParams[\"font.family\"] = ['Arial']\n",
    "plt.rcParams['font.size'] = '8'\n",
    "plt.rc('legend',fontsize=7)\n",
    "plt.rc('legend',fontsize=7)\n",
    "plt.rc('xtick', labelsize=7)\n",
    "plt.rc('ytick', labelsize=7)\n",
    "blues_palette = seaborn.color_palette(\"Blues_r\", n_colors=3)"
   ]
  },
  {
   "attachments": {},
   "cell_type": "markdown",
   "metadata": {},
   "source": [
    "### Define results path"
   ]
  },
  {
   "cell_type": "code",
   "execution_count": 2,
   "metadata": {},
   "outputs": [],
   "source": [
    "dirname = os.path.dirname(os.path.dirname(os.getcwd())) \n",
    "results_path = os.path.join(dirname, \"results\")\n",
    "save_path = os.path.join(dirname, \"figures/testing\")\n",
    "\n",
    "modalityIDs = [\"ERK+Akt\", \"ERK\", \"Akt\"]\n",
    "dataset_names = [\"High-dose (train)\", \"High-dose (test)\", \"Low-dose (test)\"]\n",
    "\n",
    "df = pd.DataFrame(columns=[\"F-score\", \"AUC-score\", \"Model\", \"Data set\"])"
   ]
  },
  {
   "attachments": {},
   "cell_type": "markdown",
   "metadata": {},
   "source": [
    "### Load cross validation performance on training data"
   ]
  },
  {
   "cell_type": "code",
   "execution_count": 3,
   "metadata": {},
   "outputs": [],
   "source": [
    "f_train = []\n",
    "auc_train = []\n",
    "_, meta = load_ei_results(os.path.join(results_path, \"models/EI.ERK_Akt\"))\n",
    "f_train.append(meta[\"fmax (minority)\"].to_numpy().item())\n",
    "auc_train.append(meta[\"auc\"].to_numpy().item())\n",
    "_, meta = load_ei_results(os.path.join(results_path, \"models/EI.ERK\"))\n",
    "f_train.append(meta[\"fmax (minority)\"].to_numpy().item())\n",
    "auc_train.append(meta[\"auc\"].to_numpy().item())\n",
    "_, meta = load_ei_results(os.path.join(results_path, \"models/EI.Akt\"))\n",
    "f_train.append(meta[\"fmax (minority)\"].to_numpy().item())\n",
    "auc_train.append(meta[\"auc\"].to_numpy().item())\n",
    "\n",
    "for i in range(3):\n",
    "    df.loc[len(df.index)] = f_train[i], auc_train[i], modalityIDs[i], dataset_names[0]"
   ]
  },
  {
   "attachments": {},
   "cell_type": "markdown",
   "metadata": {},
   "source": [
    "### Load predictions on test data and calculate performance scores"
   ]
  },
  {
   "cell_type": "code",
   "execution_count": 4,
   "metadata": {},
   "outputs": [],
   "source": [
    "test_high = [pd.read_csv(os.path.join(results_path, \"testing/mcf10a/high_dose\", f\"predictions_ERK_Akt.csv\")),\n",
    "                pd.read_csv(os.path.join(results_path, \"testing/mcf10a/high_dose\", f\"predictions_ERK.csv\")),\n",
    "                pd.read_csv(os.path.join(results_path, \"testing/mcf10a/high_dose\", f\"predictions_Akt.csv\"))]\n",
    "                \n",
    "test_low = [pd.read_csv(os.path.join(results_path, \"testing/mcf10a/low_dose\", f\"predictions_ERK_Akt.csv\")),\n",
    "               pd.read_csv(os.path.join(results_path, \"testing/mcf10a/low_dose\", f\"predictions_ERK.csv\")),\n",
    "               pd.read_csv(os.path.join(results_path, \"testing/mcf10a/low_dose\", f\"predictions_Akt.csv\"))]\n",
    "\n",
    "test_high_dict = dict(zip(modalityIDs, test_high))\n",
    "test_low_dict = dict(zip(modalityIDs, test_low))"
   ]
  },
  {
   "cell_type": "code",
   "execution_count": 5,
   "metadata": {},
   "outputs": [],
   "source": [
    "f_high = [f1_score(test_high_dict[modality_id][\"labels\"], test_high_dict[modality_id][\"inference\"]) for modality_id in modalityIDs]\n",
    "f_low = [f1_score(test_low_dict[modality_id][\"labels\"], test_low_dict[modality_id][\"inference\"]) for modality_id in modalityIDs]\n",
    "auc_high = [roc_auc_score(test_high_dict[modality_id][\"labels\"], test_high_dict[modality_id][\"predictions\"]) for modality_id in modalityIDs]\n",
    "auc_low =  [roc_auc_score(test_low_dict[modality_id][\"labels\"], test_low_dict[modality_id][\"predictions\"]) for modality_id in modalityIDs]\n",
    "\n",
    "for i in range(3):\n",
    "    df.loc[len(df.index)] = f_high[i], auc_high[i], modalityIDs[i], dataset_names[1]\n",
    "    df.loc[len(df.index)] = f_low[i], auc_low[i], modalityIDs[i], dataset_names[2]"
   ]
  },
  {
   "attachments": {},
   "cell_type": "markdown",
   "metadata": {},
   "source": [
    "### Load baselines"
   ]
  },
  {
   "cell_type": "code",
   "execution_count": 7,
   "metadata": {},
   "outputs": [],
   "source": [
    "_, _, y, _ = load_data(os.path.join(dirname, \"data/processed/mcf10a/high_dose/train\"))\n",
    "f_train_baseline = f_baseline(y)\n",
    "\n",
    "_, _, y, _ = load_data(os.path.join(dirname, \"data/processed/mcf10a/high_dose/test\"))\n",
    "f_high_baseline = f_baseline(y)\n",
    "\n",
    "_, _, y, _ = load_data(os.path.join(dirname, \"data/processed/mcf10a/low_dose/test\"))\n",
    "f_low_baseline = f_baseline(y)"
   ]
  },
  {
   "attachments": {},
   "cell_type": "markdown",
   "metadata": {},
   "source": [
    "### Figure parameters"
   ]
  },
  {
   "cell_type": "code",
   "execution_count": 8,
   "metadata": {},
   "outputs": [],
   "source": [
    "dataset_label = \"Data set\"\n",
    "f_label = r\"F score (divided class)\"\n",
    "auc_label = r\"AUC score\""
   ]
  },
  {
   "cell_type": "code",
   "execution_count": 11,
   "metadata": {},
   "outputs": [
    {
     "data": {
      "image/png": "[encoded data removed]",
      "text/plain": [
       "<Figure size 400x200 with 1 Axes>"
      ]
     },
     "metadata": {},
     "output_type": "display_data"
    }
   ],
   "source": [
    "fig, ax = plt.subplots(1, 1,figsize=(4, 2))\n",
    "\n",
    "plot1 = seaborn.barplot(ax=ax, data=df, x=\"Data set\", y=\"F-score\", hue=\"Model\",\n",
    "                palette=blues_palette)\n",
    "\n",
    "ax.hlines(f_train_baseline, xmin=-0.4, xmax=0.4, color=\"black\", linestyle=\"--\", label=\"Random classifier\")\n",
    "ax.hlines(f_high_baseline, xmin=-0.4+1, xmax=0.4+1, color=\"black\", linestyle=\"--\")\n",
    "ax.hlines(f_low_baseline, xmin=-0.4+2, xmax=0.4+2, color=\"black\", linestyle=\"--\")\n",
    "\n",
    "ax.set_xlabel(dataset_label)\n",
    "ax.set_ylabel(f_label)\n",
    "\n",
    "handles, labels = ax.get_legend_handles_labels()\n",
    "\n",
    "order = [1, 2, 3, 0]\n",
    "\n",
    "handles = [handles[index] for index in order]\n",
    "labels = [labels[index] for index in order]\n",
    "\n",
    "ax.legend(handles[:], labels[:], title=\"\")\n",
    "\n",
    "plt.legend([],[], frameon=False)\n",
    "\n",
    "ax.set_xlim(xmin=-0.5, xmax=2.5)\n",
    "ax.set_ylim(ymin=0.2, ymax=0.55)\n",
    "          \n",
    "seaborn.move_legend(ax, \"upper right\")\n",
    "\n",
    "plt.savefig(os.path.join(save_path, \"f_test.svg\"), dpi=300)"
   ]
  },
  {
   "cell_type": "code",
   "execution_count": 12,
   "metadata": {},
   "outputs": [
    {
     "data": {
      "image/png": "[encoded data removed]",
      "text/plain": [
       "<Figure size 400x200 with 1 Axes>"
      ]
     },
     "metadata": {},
     "output_type": "display_data"
    }
   ],
   "source": [
    "fig, ax = plt.subplots(1, 1,figsize=(4, 2))\n",
    "\n",
    "plot1 = seaborn.barplot(ax=ax, data=df, x=\"Data set\", y=\"AUC-score\", hue=\"Model\",\n",
    "                palette=blues_palette)\n",
    "\n",
    "ax.hlines(0.5, xmin=-5, xmax=5, color=\"black\", linestyle=\"--\", label = \"Random classifier\")\n",
    "\n",
    "ax.set_xlabel(dataset_label)\n",
    "ax.set_ylabel(auc_label)\n",
    "\n",
    "handles, labels = ax.get_legend_handles_labels()\n",
    "\n",
    "order = [1, 2, 3, 0]\n",
    "\n",
    "handles = [handles[index] for index in order]\n",
    "labels = [labels[index] for index in order]\n",
    "\n",
    "ax.legend(handles[:], labels[:], title=\"\")\n",
    "\n",
    "plt.legend([],[], frameon=False)\n",
    "\n",
    "ax.set_xlim(xmin=-0.5, xmax=2.5)\n",
    "ax.set_ylim(ymin=0.49, ymax=0.78)\n",
    "          \n",
    "seaborn.move_legend(ax, \"upper right\")\n",
    "\n",
    "plt.savefig(os.path.join(save_path, \"auc.svg\"), dpi=300)"
   ]
  },
  {
   "cell_type": "code",
   "execution_count": 13,
   "metadata": {},
   "outputs": [
    {
     "data": {
      "text/plain": [
       "<Figure size 700x200 with 0 Axes>"
      ]
     },
     "metadata": {},
     "output_type": "display_data"
    }
   ],
   "source": [
    "fig = plt.figure(figsize=(7, 2))\n",
    "fig.legend(handles=handles, labels=labels, ncol = len(ax.lines))\n",
    "plt.savefig(os.path.join(save_path, \"legend.svg\"), dpi=300)"
   ]
  },
  {
   "cell_type": "markdown",
   "metadata": {},
   "source": [
    "### Show scores"
   ]
  },
  {
   "cell_type": "code",
   "execution_count": 14,
   "metadata": {},
   "outputs": [
    {
     "data": {
      "text/html": [
       "<div>\n",
       "<style scoped>\n",
       "    .dataframe tbody tr th:only-of-type {\n",
       "        vertical-align: middle;\n",
       "    }\n",
       "\n",
       "    .dataframe tbody tr th {\n",
       "        vertical-align: top;\n",
       "    }\n",
       "\n",
       "    .dataframe thead th {\n",
       "        text-align: right;\n",
       "    }\n",
       "</style>\n",
       "<table border=\"1\" class=\"dataframe\">\n",
       "  <thead>\n",
       "    <tr style=\"text-align: right;\">\n",
       "      <th></th>\n",
       "      <th>F-score</th>\n",
       "      <th>AUC-score</th>\n",
       "      <th>Model</th>\n",
       "      <th>Data set</th>\n",
       "    </tr>\n",
       "  </thead>\n",
       "  <tbody>\n",
       "    <tr>\n",
       "      <th>0</th>\n",
       "      <td>0.542373</td>\n",
       "      <td>0.757114</td>\n",
       "      <td>ERK+Akt</td>\n",
       "      <td>High-dose (train)</td>\n",
       "    </tr>\n",
       "    <tr>\n",
       "      <th>1</th>\n",
       "      <td>0.528239</td>\n",
       "      <td>0.726551</td>\n",
       "      <td>ERK</td>\n",
       "      <td>High-dose (train)</td>\n",
       "    </tr>\n",
       "    <tr>\n",
       "      <th>2</th>\n",
       "      <td>0.459064</td>\n",
       "      <td>0.660806</td>\n",
       "      <td>Akt</td>\n",
       "      <td>High-dose (train)</td>\n",
       "    </tr>\n",
       "    <tr>\n",
       "      <th>3</th>\n",
       "      <td>0.524390</td>\n",
       "      <td>0.725636</td>\n",
       "      <td>ERK+Akt</td>\n",
       "      <td>High-dose (test)</td>\n",
       "    </tr>\n",
       "    <tr>\n",
       "      <th>4</th>\n",
       "      <td>0.400560</td>\n",
       "      <td>0.694747</td>\n",
       "      <td>ERK+Akt</td>\n",
       "      <td>Low-dose (test)</td>\n",
       "    </tr>\n",
       "    <tr>\n",
       "      <th>5</th>\n",
       "      <td>0.493671</td>\n",
       "      <td>0.717486</td>\n",
       "      <td>ERK</td>\n",
       "      <td>High-dose (test)</td>\n",
       "    </tr>\n",
       "    <tr>\n",
       "      <th>6</th>\n",
       "      <td>0.382222</td>\n",
       "      <td>0.694547</td>\n",
       "      <td>ERK</td>\n",
       "      <td>Low-dose (test)</td>\n",
       "    </tr>\n",
       "    <tr>\n",
       "      <th>7</th>\n",
       "      <td>0.455090</td>\n",
       "      <td>0.638974</td>\n",
       "      <td>Akt</td>\n",
       "      <td>High-dose (test)</td>\n",
       "    </tr>\n",
       "    <tr>\n",
       "      <th>8</th>\n",
       "      <td>0.311721</td>\n",
       "      <td>0.603350</td>\n",
       "      <td>Akt</td>\n",
       "      <td>Low-dose (test)</td>\n",
       "    </tr>\n",
       "  </tbody>\n",
       "</table>\n",
       "</div>"
      ],
      "text/plain": [
       "    F-score  AUC-score    Model           Data set\n",
       "0  0.542373   0.757114  ERK+Akt  High-dose (train)\n",
       "1  0.528239   0.726551      ERK  High-dose (train)\n",
       "2  0.459064   0.660806      Akt  High-dose (train)\n",
       "3  0.524390   0.725636  ERK+Akt   High-dose (test)\n",
       "4  0.400560   0.694747  ERK+Akt    Low-dose (test)\n",
       "5  0.493671   0.717486      ERK   High-dose (test)\n",
       "6  0.382222   0.694547      ERK    Low-dose (test)\n",
       "7  0.455090   0.638974      Akt   High-dose (test)\n",
       "8  0.311721   0.603350      Akt    Low-dose (test)"
      ]
     },
     "execution_count": 14,
     "metadata": {},
     "output_type": "execute_result"
    }
   ],
   "source": [
    "df"
   ]
  },
  {
   "cell_type": "code",
   "execution_count": null,
   "metadata": {},
   "outputs": [],
   "source": []
  }
 ],
 "metadata": {
  "kernelspec": {
   "display_name": "venv",
   "language": "python",
   "name": "python3"
  },
  "language_info": {
   "codemirror_mode": {
    "name": "ipython",
    "version": 3
   },
   "file_extension": ".py",
   "mimetype": "text/x-python",
   "name": "python",
   "nbconvert_exporter": "python",
   "pygments_lexer": "ipython3",
   "version": "3.11.5"
  },
  "orig_nbformat": 4
 },
 "nbformat": 4,
 "nbformat_minor": 2
}
